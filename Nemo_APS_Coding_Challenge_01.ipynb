{
  "cells": [
    {
      "cell_type": "markdown",
      "metadata": {
        "id": "8xm-WLbisYTt"
      },
      "source": [
        "3 Handwritten Digit Recognition with TensorFlow"
      ]
    },
    {
      "cell_type": "markdown",
      "metadata": {
        "id": "6JARwewpsYTu"
      },
      "source": [
        "3.1 Introduction\n",
        "\n",
        "Handwritten digit recognition is a common image recognition task where computers recognize text in handwriting images. Different from printed fonts, handwriting of different people has different sizes and styles, making it difficult for computers to recognize handwriting.\n",
        "\n",
        "This chapter describes the basic process of TensorFlow computing and basic elements for building a network."
      ]
    },
    {
      "cell_type": "markdown",
      "metadata": {
        "id": "OtOOY-_WsYTv"
      },
      "source": [
        "3.3.1 Project Description and Dataset Acquisition\n",
        "\n",
        "3.3.1.1 Description\n",
        "\n",
        "This project applies deep learning and TensorFlow tools to train and build models based on the MNIST handwriting dataset."
      ]
    },
    {
      "cell_type": "markdown",
      "metadata": {
        "id": "e8arlTU-sYTv"
      },
      "source": [
        "3.3.1.2 Data Acquisition and Processing\n",
        "\n",
        "3.3.1.2.1 About the Dataset\n",
        "\n",
        "The MNIST dataset is provided by the National Institute of Standards and Technology (NIST).\n",
        "\n",
        "The dataset consists of handwritten digits from 250 individuals, of which 50% are high school students and 50% are staff from Bureau of the Census.\n",
        "\n",
        "You can download the dataset from http://yann.lecun.com/exdb/mnist/, which consists of the following parts:\n",
        "- Training set images: train-images-idx3-ubyte.gz (9.9 MB, 47 MB after decompression, including 60,000 samples)\n",
        "- Training set labels: train-labels-idx1-ubyte.gz (29 KB, 60 KB after decompression, including 60,000 labels)\n",
        "- Test set images: t10k-images-idx3-ubyte.gz (1.6 MB, 7.8 MB after decompression, including 10,000 samples)\n",
        "- Test set labels: t10k-labels-idx1-ubyte.gz (5 KB, 10 KB after decompression, including 10,000 labels)\n",
        "\n",
        "The MNIST dataset is an entry-level computer vision dataset that contains images of various handwritten digits.\n",
        "\n",
        "It also contains one label for each image, to clarify the correct digit. For example, the labels for the preceding four images are 5, 0, 4, and 1."
      ]
    },
    {
      "cell_type": "markdown",
      "metadata": {
        "id": "ErvOKIKZsYTv"
      },
      "source": [
        "3.3.1.2.2 MNIST Dataset Reading\n",
        "\n",
        "Download the MNIST dataset directly from the official TensorFlow website and decompress it."
      ]
    },
    {
      "cell_type": "code",
      "execution_count": 2,
      "metadata": {
        "id": "8kuMl8gXsYTw",
        "colab": {
          "base_uri": "https://localhost:8080/"
        },
        "outputId": "750422cd-6604-4ce6-d843-53c7bb38a498"
      },
      "outputs": [
        {
          "output_type": "stream",
          "name": "stdout",
          "text": [
            "Downloading data from https://storage.googleapis.com/tensorflow/tf-keras-datasets/mnist.npz\n",
            "11490434/11490434 [==============================] - 1s 0us/step\n",
            "5\n",
            "(60000, 28, 28) (60000,)\n",
            "(10000, 28, 28) (10000,)\n",
            "[0. 0. 0. 0. 0. 1. 0. 0. 0. 0.]\n"
          ]
        }
      ],
      "source": [
        "import os\n",
        "import tensorflow as tf\n",
        "from tensorflow import keras\n",
        "from tensorflow.keras import layers, optimizers, datasets\n",
        "from matplotlib import pyplot as plt\n",
        "import numpy as np\n",
        "\n",
        "(x_train_raw, y_train_raw), (x_test_raw, y_test_raw) = datasets.mnist.load_data()\n",
        "print(y_train_raw[0])\n",
        "print(x_train_raw.shape, y_train_raw.shape)\n",
        "print(x_test_raw.shape, y_test_raw.shape)\n",
        "\n",
        "#Convert the labels into one-hot codes.\n",
        "num_classes = 10\n",
        "y_train = keras.utils.to_categorical(y_train_raw, num_classes)\n",
        "y_test = keras.utils.to_categorical(y_test_raw, num_classes)\n",
        "\n",
        "print(y_train[0])\n"
      ]
    },
    {
      "cell_type": "markdown",
      "metadata": {
        "id": "wPhfBs62sYTx"
      },
      "source": [
        "In the MNIST dataset, the images are a tensor in the shape of [60000, 28, 28]. The first dimension is used to extract images, and the second and third dimensions are used to extract pixels in each image. Each element in this tensor indicates the strength of a pixel in an image. The value ranges from 0 to 255.\n",
        "\n",
        "Label data is converted from scalar to one-hot vectors. In a one-hot vector, one digit is 1, and digits in other dimensions are all 0s. For example, label 1 may be represented as [0,1,0,0,0,0,0,0,0,0,0,0]. Therefore, the labels are a digital matrix of [60000, 10]."
      ]
    },
    {
      "cell_type": "markdown",
      "metadata": {
        "id": "9wbqQXfYsYTy"
      },
      "source": [
        "3.3.2 Dataset Preprocessing and Visualization\n",
        "\n",
        "3.3.2.1 Data Visualization\n",
        "\n",
        "Draw the first 9 images."
      ]
    },
    {
      "cell_type": "code",
      "execution_count": 3,
      "metadata": {
        "id": "WFAekcw1sYTy",
        "colab": {
          "base_uri": "https://localhost:8080/",
          "height": 433
        },
        "outputId": "e60df6e0-b021-4d39-faea-9f3b945afe94"
      },
      "outputs": [
        {
          "output_type": "display_data",
          "data": {
            "text/plain": [
              "<Figure size 640x480 with 9 Axes>"
            ],
            "image/png": "[encoded data removed]"
          },
          "metadata": {}
        }
      ],
      "source": [
        "plt.figure()\n",
        "for i in range(9):\n",
        "    plt.subplot(3,3,i+1)\n",
        "    plt.imshow(x_train_raw[i])\n",
        "\n",
        "    #plt.ylabel(y[i].numpy())\n",
        "    # plt.axis('off')\n",
        "plt.show()"
      ]
    },
    {
      "cell_type": "markdown",
      "metadata": {
        "id": "7T5JbX8_sYTy"
      },
      "source": [
        "3.3.2.2 Data Preprocessing\n",
        "\n",
        "An output of a fully connected network must be in the form of vector, instead of the matrix form of the current images. Therefore, you need to sort the images into vectors."
      ]
    },
    {
      "cell_type": "code",
      "execution_count": 4,
      "metadata": {
        "id": "H1lYvxbYsYTz"
      },
      "outputs": [],
      "source": [
        "#Convert a 28 x 28 image into a 784 x 1 vector.\n",
        "x_train = x_train_raw.reshape(60000, 784)\n",
        "x_test = x_test_raw.reshape(10000, 784)"
      ]
    },
    {
      "cell_type": "markdown",
      "metadata": {
        "id": "iAORC9FGsYTz"
      },
      "source": [
        "Currently, the dynamic range of pixels is 0 to 255. Image pixels are usually normalized to the range of 0 to 1 during processing of image pixel values."
      ]
    },
    {
      "cell_type": "code",
      "execution_count": 5,
      "metadata": {
        "id": "7Rn_Dm52sYTz"
      },
      "outputs": [],
      "source": [
        "#Normalize image pixel values.\n",
        "x_train = x_train.astype('float32')/255\n",
        "x_test = x_test.astype('float32')/255"
      ]
    },
    {
      "cell_type": "markdown",
      "metadata": {
        "id": "ZHg7dVyOsYTz"
      },
      "source": [
        "3.3.3 DNN Construction\n",
        "\n",
        "3.3.3.1 Building a DNN Model"
      ]
    },
    {
      "cell_type": "code",
      "execution_count": 6,
      "metadata": {
        "id": "v1-VDuEcsYTz",
        "colab": {
          "base_uri": "https://localhost:8080/"
        },
        "outputId": "479d15d3-3cb5-4df6-9f21-3592705285bc"
      },
      "outputs": [
        {
          "output_type": "stream",
          "name": "stdout",
          "text": [
            "Model: \"sequential\"\n",
            "_________________________________________________________________\n",
            " Layer (type)                Output Shape              Param #   \n",
            "=================================================================\n",
            " dense (Dense)               (None, 512)               401920    \n",
            "                                                                 \n",
            " dense_1 (Dense)             (None, 256)               131328    \n",
            "                                                                 \n",
            " dense_2 (Dense)             (None, 124)               31868     \n",
            "                                                                 \n",
            " dense_3 (Dense)             (None, 10)                1250      \n",
            "                                                                 \n",
            "=================================================================\n",
            "Total params: 566,366\n",
            "Trainable params: 566,366\n",
            "Non-trainable params: 0\n",
            "_________________________________________________________________\n"
          ]
        }
      ],
      "source": [
        "#Create a deep neural network (DNN) model that consists of three fully connected layers and two RELU activation functions.\n",
        "model = keras.Sequential([\n",
        "layers.Dense(512, activation='relu', input_dim = 784),\n",
        "layers.Dense(256, activation='relu'),\n",
        "layers.Dense(124, activation='relu'),\n",
        "layers.Dense(num_classes, activation='softmax')])\n",
        "model.summary()"
      ]
    },
    {
      "cell_type": "markdown",
      "metadata": {
        "id": "9uA5AwHjsYTz"
      },
      "source": [
        "layer.Dense() indicates a fully connected layer, and activation indicates a used activation function."
      ]
    },
    {
      "cell_type": "markdown",
      "metadata": {
        "id": "YPUOColpsYTz"
      },
      "source": [
        "3.3.3.2 Compiling the DNN Model"
      ]
    },
    {
      "cell_type": "code",
      "execution_count": 7,
      "metadata": {
        "id": "3j8w3684sYT0"
      },
      "outputs": [],
      "source": [
        "Optimizer = optimizers.Adam(0.001)\n",
        "model.compile(loss=keras.losses.categorical_crossentropy,\n",
        "optimizer=Optimizer,\n",
        "metrics=['accuracy'])"
      ]
    },
    {
      "cell_type": "markdown",
      "metadata": {
        "id": "86uqz_ucsYT0"
      },
      "source": [
        "In the preceding example, the loss function of the model is cross entropy, and the optimization algorithm is the Adam gradient descent method."
      ]
    },
    {
      "cell_type": "markdown",
      "metadata": {
        "id": "tysJTCiysYT0"
      },
      "source": [
        "3.3.3.3 Training the DNN Model"
      ]
    },
    {
      "cell_type": "code",
      "execution_count": 8,
      "metadata": {
        "id": "GbZAo-4jsYT0",
        "colab": {
          "base_uri": "https://localhost:8080/"
        },
        "outputId": "377d0bf1-a251-4c6e-afa3-12f82a26107d"
      },
      "outputs": [
        {
          "output_type": "stream",
          "name": "stdout",
          "text": [
            "Epoch 1/10\n",
            "469/469 [==============================] - 10s 19ms/step - loss: 0.2250 - accuracy: 0.9334\n",
            "Epoch 2/10\n",
            "469/469 [==============================] - 7s 14ms/step - loss: 0.0828 - accuracy: 0.9751\n",
            "Epoch 3/10\n",
            "469/469 [==============================] - 8s 17ms/step - loss: 0.0530 - accuracy: 0.9830\n",
            "Epoch 4/10\n",
            "469/469 [==============================] - 7s 15ms/step - loss: 0.0410 - accuracy: 0.9868\n",
            "Epoch 5/10\n",
            "469/469 [==============================] - 8s 16ms/step - loss: 0.0321 - accuracy: 0.9898\n",
            "Epoch 6/10\n",
            "469/469 [==============================] - 7s 16ms/step - loss: 0.0258 - accuracy: 0.9911\n",
            "Epoch 7/10\n",
            "469/469 [==============================] - 7s 15ms/step - loss: 0.0222 - accuracy: 0.9926\n",
            "Epoch 8/10\n",
            "469/469 [==============================] - 8s 16ms/step - loss: 0.0154 - accuracy: 0.9947\n",
            "Epoch 9/10\n",
            "469/469 [==============================] - 7s 14ms/step - loss: 0.0198 - accuracy: 0.9936\n",
            "Epoch 10/10\n",
            "469/469 [==============================] - 8s 16ms/step - loss: 0.0164 - accuracy: 0.9945\n"
          ]
        },
        {
          "output_type": "execute_result",
          "data": {
            "text/plain": [
              "<keras.callbacks.History at 0x799225d11ea0>"
            ]
          },
          "metadata": {},
          "execution_count": 8
        }
      ],
      "source": [
        "#Fit the training data to the model by using the fit method.\n",
        "model.fit(x_train, y_train,\n",
        "batch_size=128,\n",
        "epochs=10,\n",
        "verbose=1)"
      ]
    },
    {
      "cell_type": "markdown",
      "metadata": {
        "id": "1u9RkpQ4sYT0"
      },
      "source": [
        "Epoch indicates a specific round of training. In the preceding example, full data is iterated for 10 times."
      ]
    },
    {
      "cell_type": "markdown",
      "metadata": {
        "id": "kh-nUaY5sYT0"
      },
      "source": [
        "3.3.3.4 Evaluating the DNN Model"
      ]
    },
    {
      "cell_type": "code",
      "execution_count": 9,
      "metadata": {
        "id": "QIfjX4sIsYT0",
        "colab": {
          "base_uri": "https://localhost:8080/"
        },
        "outputId": "9cb253eb-37ab-4940-c9bb-eb285c851e11"
      },
      "outputs": [
        {
          "output_type": "stream",
          "name": "stdout",
          "text": [
            "Test loss: 0.08620940893888474\n",
            "Test accuracy: 0.978600025177002\n"
          ]
        }
      ],
      "source": [
        "score = model.evaluate(x_test, y_test, verbose=0)\n",
        "print('Test loss:', score[0])\n",
        "print('Test accuracy:', score[1])"
      ]
    },
    {
      "cell_type": "markdown",
      "metadata": {
        "id": "JXZPYZursYT0"
      },
      "source": [
        "The evaluation shows that the model accuracy reaches 0.87, and 10 training iterations have been performed."
      ]
    },
    {
      "cell_type": "markdown",
      "metadata": {
        "id": "WfFO9dCesYT0"
      },
      "source": [
        "3.3.3.5 Saving the DNN Model"
      ]
    },
    {
      "cell_type": "code",
      "execution_count": 10,
      "metadata": {
        "id": "_xuxhdehsYT1"
      },
      "outputs": [],
      "source": [
        "# Create model folder under relative path.\n",
        "model.save('./model/final_DNN_model.h5')"
      ]
    },
    {
      "cell_type": "markdown",
      "metadata": {
        "id": "CFWQMjdSsYT1"
      },
      "source": [
        "3.3.4 CNN Construction\n",
        "\n",
        "The conventional CNN construction method helps you better understand the internal network structure but has a large code volume. Therefore, attempts to construct a CNN by using high-level APIs are made to simplify the network construction process.\n",
        "\n",
        "3.3.4.1 Building a CNN Model"
      ]
    },
    {
      "cell_type": "code",
      "execution_count": 11,
      "metadata": {
        "id": "uSTn8atmsYT1"
      },
      "outputs": [],
      "source": [
        "import tensorflow as tf\n",
        "from tensorflow import keras\n",
        "import numpy as np\n",
        "model=keras.Sequential() #Create a network sequence.\n",
        "##Add the first convolutional layer and pooling layer.\n",
        "model.add(keras.layers.Conv2D(filters=32,kernel_size = 5,strides = (1,1),\n",
        "padding = 'same',activation = tf.nn.relu,input_shape = (28,28,1)))\n",
        "model.add(keras.layers.MaxPool2D(pool_size=(2,2), strides = (2,2), padding = 'valid'))\n",
        "##Add the second convolutional layer and pooling layer.\n",
        "model.add(keras.layers.Conv2D(filters=64,kernel_size = 3,strides = (1,1),padding = 'same',activation = tf.nn.relu))\n",
        "model.add(keras.layers.MaxPool2D(pool_size=(2,2), strides = (2,2), padding = 'valid'))\n",
        "##Add a dropout layer to reduce overfitting.\n",
        "model.add(keras.layers.Dropout(0.25))\n",
        "model.add(keras.layers.Flatten())\n",
        "##Add two fully connected layers.\n",
        "model.add(keras.layers.Dense(units=128,activation = tf.nn.relu))\n",
        "model.add(keras.layers.Dropout(0.5))\n",
        "model.add(keras.layers.Dense(units=10,activation = tf.nn.softmax))"
      ]
    },
    {
      "cell_type": "markdown",
      "metadata": {
        "id": "oeqmsg11sYT1"
      },
      "source": [
        "In the preceding network, two convolutional layers and two pooling layers are first added by using keras.layers. Afterwards, a dropout layer is added to prevent overfitting. Finally, two fully connected layers are added."
      ]
    },
    {
      "cell_type": "markdown",
      "metadata": {
        "id": "mbyLqgiDsYT1"
      },
      "source": [
        "3.3.4.2 Compiling and Training the CNN Model"
      ]
    },
    {
      "cell_type": "code",
      "execution_count": 12,
      "metadata": {
        "id": "6MEvmuIksYT1",
        "colab": {
          "base_uri": "https://localhost:8080/"
        },
        "outputId": "799ce6ba-7d1d-4a23-e99b-13d13824a90b"
      },
      "outputs": [
        {
          "output_type": "stream",
          "name": "stdout",
          "text": [
            "Epoch 1/5\n",
            "469/469 [==============================] - 92s 194ms/step - loss: 0.2817 - accuracy: 0.9125\n",
            "Epoch 2/5\n",
            "469/469 [==============================] - 90s 191ms/step - loss: 0.0907 - accuracy: 0.9731\n",
            "Epoch 3/5\n",
            "469/469 [==============================] - 90s 191ms/step - loss: 0.0710 - accuracy: 0.9791\n",
            "Epoch 4/5\n",
            "469/469 [==============================] - 91s 193ms/step - loss: 0.0589 - accuracy: 0.9826\n",
            "Epoch 5/5\n",
            "469/469 [==============================] - 90s 192ms/step - loss: 0.0522 - accuracy: 0.9847\n"
          ]
        },
        {
          "output_type": "execute_result",
          "data": {
            "text/plain": [
              "<keras.callbacks.History at 0x7992252720e0>"
            ]
          },
          "metadata": {},
          "execution_count": 12
        }
      ],
      "source": [
        "#Expand data dimensions to adapt to the CNN model.\n",
        "X_train=x_train.reshape(60000,28,28,1)\n",
        "X_test=x_test.reshape(10000,28,28,1)\n",
        "model.compile(optimizer=\"adam\",loss=\"categorical_crossentropy\",metrics=['accuracy'])\n",
        "model.fit(x=X_train,y=y_train,epochs=5,batch_size=128)"
      ]
    },
    {
      "cell_type": "markdown",
      "metadata": {
        "id": "8MplIupWsYT1"
      },
      "source": [
        "3.3.4.3 Evaluating the CNN Model\n"
      ]
    },
    {
      "cell_type": "code",
      "execution_count": 13,
      "metadata": {
        "id": "xiT4klCvsYT1",
        "colab": {
          "base_uri": "https://localhost:8080/"
        },
        "outputId": "f296bd31-fa4f-4c4e-9bdc-ad7696926a59"
      },
      "outputs": [
        {
          "output_type": "stream",
          "name": "stdout",
          "text": [
            "313/313 [==============================] - 5s 14ms/step - loss: 0.0256 - accuracy: 0.9911\n",
            "Test Accuracy 0.99\n"
          ]
        }
      ],
      "source": [
        "test_loss,test_acc=model.evaluate(x=X_test,y=y_test)\n",
        "print(\"Test Accuracy %.2f\"%test_acc)"
      ]
    },
    {
      "cell_type": "markdown",
      "metadata": {
        "id": "Qs60dRKesYT1"
      },
      "source": [
        "3.3.4.4 Saving the CNN Model"
      ]
    },
    {
      "cell_type": "code",
      "execution_count": 14,
      "metadata": {
        "id": "hVAqV6O6sYT2"
      },
      "outputs": [],
      "source": [
        "model.save('./model/final_CNN_model.h5')"
      ]
    },
    {
      "cell_type": "markdown",
      "metadata": {
        "id": "fDgvESbDsYT2"
      },
      "source": [
        "You can use tf.data to build training input pipelines for large datasets."
      ]
    },
    {
      "cell_type": "markdown",
      "metadata": {
        "id": "vZjnDMClsYT2"
      },
      "source": [
        "3.3.5 Prediction Result Visualization\n",
        "\n",
        "3.3.5.1 Loading the CNN Model"
      ]
    },
    {
      "cell_type": "code",
      "execution_count": 15,
      "metadata": {
        "id": "LKJqfn-JsYT2",
        "colab": {
          "base_uri": "https://localhost:8080/"
        },
        "outputId": "a94dc022-d40d-4820-de4c-01bc77170f4a"
      },
      "outputs": [
        {
          "output_type": "stream",
          "name": "stdout",
          "text": [
            "Model: \"sequential_1\"\n",
            "_________________________________________________________________\n",
            " Layer (type)                Output Shape              Param #   \n",
            "=================================================================\n",
            " conv2d (Conv2D)             (None, 28, 28, 32)        832       \n",
            "                                                                 \n",
            " max_pooling2d (MaxPooling2D  (None, 14, 14, 32)       0         \n",
            " )                                                               \n",
            "                                                                 \n",
            " conv2d_1 (Conv2D)           (None, 14, 14, 64)        18496     \n",
            "                                                                 \n",
            " max_pooling2d_1 (MaxPooling  (None, 7, 7, 64)         0         \n",
            " 2D)                                                             \n",
            "                                                                 \n",
            " dropout (Dropout)           (None, 7, 7, 64)          0         \n",
            "                                                                 \n",
            " flatten (Flatten)           (None, 3136)              0         \n",
            "                                                                 \n",
            " dense_4 (Dense)             (None, 128)               401536    \n",
            "                                                                 \n",
            " dropout_1 (Dropout)         (None, 128)               0         \n",
            "                                                                 \n",
            " dense_5 (Dense)             (None, 10)                1290      \n",
            "                                                                 \n",
            "=================================================================\n",
            "Total params: 422,154\n",
            "Trainable params: 422,154\n",
            "Non-trainable params: 0\n",
            "_________________________________________________________________\n"
          ]
        }
      ],
      "source": [
        "from tensorflow.keras.models import load_model\n",
        "new_model = load_model('./model/final_CNN_model.h5')\n",
        "new_model.summary()"
      ]
    },
    {
      "cell_type": "markdown",
      "metadata": {
        "id": "-W4Kx_QhsYT9"
      },
      "source": [
        "Visualize prediction results."
      ]
    },
    {
      "cell_type": "code",
      "execution_count": 16,
      "metadata": {
        "id": "fY90hgP-sYT9",
        "colab": {
          "base_uri": "https://localhost:8080/",
          "height": 527
        },
        "outputId": "30544bc5-87d3-42d0-ded2-ff1f8f69db9c"
      },
      "outputs": [
        {
          "output_type": "stream",
          "name": "stdout",
          "text": [
            "1/1 [==============================] - 0s 134ms/step\n",
            "prediction results of the first 20 images:\n",
            "7,2,1,0,4,\t\n",
            "1,4,9,5,9,\t\n",
            "0,6,9,0,1,\t\n",
            "5,9,7,3,4,\t\n",
            "first 20 images in the test set:\n"
          ]
        },
        {
          "output_type": "display_data",
          "data": {
            "text/plain": [
              "<Figure size 640x480 with 20 Axes>"
            ],
            "image/png": "[encoded data removed]"
          },
          "metadata": {}
        }
      ],
      "source": [
        "#Visualize test set output results.\n",
        "import matplotlib.pyplot as plt\n",
        "%matplotlib inline\n",
        "def res_Visual(n):\n",
        "    # final_opt_a=new_model.predict_classes(X_test[0:n])   #Perform predictions on the test set by using the model.\n",
        "\n",
        "    #Perform predictions on the test set by using the model.\n",
        "    # Update predict_classes is removed starting tf v2.6\n",
        "    final_opt_a=new_model.predict(X_test[0:n])\n",
        "    classes_x = np.argmax(final_opt_a,axis=1)\n",
        "\n",
        "    fig, ax = plt.subplots(nrows=int(n/5),ncols=5 )\n",
        "    ax = ax.flatten()\n",
        "    print('prediction results of the first {} images:'.format(n))\n",
        "    for i in range(n):\n",
        "        # print(final_opt_a[i],end=',')\n",
        "        print(classes_x[i],end=',')\n",
        "        if int((i+1)%5) ==0:\n",
        "            print('\\t')\n",
        "        #Visualize image display.\n",
        "        img = X_test[i].reshape((28,28))#Read each row of data in the format of Ndarry.\n",
        "        plt.axis(\"off\")\n",
        "        ax[i].imshow(img, cmap='Greys', interpolation='nearest') #Visualization\n",
        "        # ax[i].imshow(img, cmap=plt.get_cmap('gray')) #, interpolation='nearest') #Visualization\n",
        "        ax[i].axis(\"off\")\n",
        "    print('first {} images in the test set:'.format(n))\n",
        "res_Visual(20)"
      ]
    },
    {
      "cell_type": "markdown",
      "source": [
        "\n",
        "## APS Coding Challenge #1 💪\n",
        "####Topic 🧠\n",
        "- Deep Learning\n",
        "\n",
        "####What to do 🙀\n",
        "- You will train a CNN model and predict handwritten digits with MNIST dataset\n",
        "\n",
        "####How ⚙️\n",
        "1. Open https://colab.research.google.com/\n",
        "2. Download the attached notebook and upload it in colab (IMG 1)\n",
        "3. `Ctrl+F9` or `Runtime > Run all` to execute all code cells (IMG2)\n",
        "4. Skim through the results\n",
        "5. In the last text cell, follow the instructions to complete the challenge\n",
        "\n",
        "####When 🗓️\n",
        "- You may start the challenge as soon as this announcement is posted.\n",
        "\n",
        "####Deadline ⚠️\n",
        "- July 17, 2023 at 1PM\n",
        "\n",
        "####Submission 📃\n",
        "- Upload your output on your designated Gdrive folder. Check your zimbra mail for the invite.\n",
        "- Reply \"Meow :cat-on-keyboard: \" on this thread when done.\n",
        "- Push the codes in your personal GitHub repo as part of your accomplishment 👍\n",
        "- Submit feedback form that will be sent via zimbra mail.\n",
        "\n",
        "####Rewards 🎉\n",
        "🥇 +3 points for **First challenger** to send their output\n",
        "\n",
        "🥈 +2 points for Challenger with the **best solution**\n",
        "\n",
        "🥉 +1 point for **Succeeding challengers** to send their output\n",
        "\n",
        "🎁 For the challenger with the **Best Solution** and included in the **First 5** to send the output\n",
        "\n",
        "---\n",
        "\n",
        "Note:\n",
        "- Time spent for the challenge should be excluded from RM timelogs\n",
        "- Do this only on your free time\n",
        "- Project tasks should still be the priority"
      ],
      "metadata": {
        "id": "YxviPllRtFKb"
      }
    },
    {
      "cell_type": "markdown",
      "source": [
        "---\n",
        "#Instructions\n",
        "\n",
        "1. Save an image from `X_test` array from any index using `keras.utils.save_img`.\n",
        "2. Load the saved image using `keras.utils.load_img` with `color_mode='grayscale'`\n",
        "3. Convert the loaded image into an array using `keras.utils.img_to_array`\n",
        "4. Reshape the image into `(1,28,28,1)`\n",
        "5. Predict and get the classes similar with the previously defined function `res_Visual`\n",
        "6. Print the classes which will be the result of the prediction\n",
        "7. Show the input image with `plt.imshow`\n",
        "---\n",
        "Note:\n",
        "- You can improve and be creative on how will you code the challenge.\n",
        "- You can explore other approaches such as **Transfer Learning**\n",
        "- Hope you enjoy, gain knowledge, and fire-up your neurons!\n",
        "\n",
        "Happy Weekend! 🌟🍾🎉"
      ],
      "metadata": {
        "id": "QZ5QapAxbm1x"
      }
    },
    {
      "cell_type": "markdown",
      "source": [
        "### **Solution:**"
      ],
      "metadata": {
        "id": "O_wFZ8hGd1O9"
      }
    },
    {
      "cell_type": "code",
      "source": [
        "import os\n",
        "import numpy as np\n",
        "import tensorflow as tf\n",
        "import matplotlib.pyplot as plt\n",
        "from tensorflow import keras\n",
        "from tensorflow.keras.models import load_model\n",
        "\n",
        "# Load CNN Model\n",
        "new_model = load_model('./model/final_CNN_model.h5')\n",
        "\n",
        "# Function for Solution (You can choose any index from Array X_test)\n",
        "def predictFromXTest(i):\n",
        "  # Prepare Data Based on Instructions\n",
        "  tf.keras.utils.save_img('image.png',X_test[i])\n",
        "  savedImage = tf.keras.utils.load_img('image.png', color_mode='grayscale')\n",
        "  arrImg = tf.keras.utils.img_to_array(savedImage)\n",
        "  reshapedArr = arrImg.reshape([1,28,28,1])\n",
        "  print(reshapedArr.shape)\n",
        "\n",
        "  #Visualize test set output results.\n",
        "  predictArr = new_model.predict(reshapedArr[0:1])\n",
        "  classes_x = np.argmax(predictArr, axis = 1)\n",
        "  print('Prediction Result:')\n",
        "  print(classes_x[0])\n",
        "  print ('\\t')\n",
        "  imgArr = reshapedArr[0].reshape((28, 28))\n",
        "  plt.axis('off')\n",
        "  plt.imshow(imgArr, cmap = 'Blues', interpolation = 'nearest')\n",
        "  plt.title('Image from X_test Array', fontweight = 'bold');\n",
        "\n",
        "# Sample Usage\n",
        "predictFromXTest(30)"
      ],
      "metadata": {
        "colab": {
          "base_uri": "https://localhost:8080/",
          "height": 515
        },
        "id": "r_vPxvPLgjIG",
        "outputId": "6be86a47-7e35-4bd4-ba47-31e06533a919"
      },
      "execution_count": 23,
      "outputs": [
        {
          "output_type": "stream",
          "name": "stdout",
          "text": [
            "(1, 28, 28, 1)\n",
            "1/1 [==============================] - 0s 95ms/step\n",
            "Prediction Result:\n",
            "3\n",
            "\t\n"
          ]
        },
        {
          "output_type": "display_data",
          "data": {
            "text/plain": [
              "<Figure size 640x480 with 1 Axes>"
            ],
            "image/png": "[encoded data removed]"
          },
          "metadata": {}
        }
      ]
    }
  ],
  "metadata": {
    "interpreter": {
      "hash": "0c0dba860587613dddbed9fecc228f78ba74bf23e5cb9e16b0d450e45dfd6cb4"
    },
    "kernelspec": {
      "display_name": "Python 3.8.11 ('tf-gpu')",
      "language": "python",
      "name": "python3"
    },
    "language_info": {
      "codemirror_mode": {
        "name": "ipython",
        "version": 3
      },
      "file_extension": ".py",
      "mimetype": "text/x-python",
      "name": "python",
      "nbconvert_exporter": "python",
      "pygments_lexer": "ipython3",
      "version": "3.10.4"
    },
    "orig_nbformat": 4,
    "colab": {
      "provenance": []
    }
  },
  "nbformat": 4,
  "nbformat_minor": 0
}